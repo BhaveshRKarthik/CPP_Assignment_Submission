{
 "cells": [
  {
   "cell_type": "markdown",
   "metadata": {},
   "source": [
    "# **Basic Python**"
   ]
  },
  {
   "cell_type": "markdown",
   "metadata": {},
   "source": [
    "## 1.a \n",
    "Give a function F that takes a single argument n. This function should print a sequence of n strings as described in the examples below: <br>\n",
    "Ex: **n = 3**\n",
    "\n",
    "--A--<br>\n",
    "-BAB-<br>\n",
    "CBABC<br>\n",
    "\n",
    "**n = 4**\n",
    "\n",
    "---A---<br>\n",
    "--BAB--<br>\n",
    "-CBABC-<br>\n",
    "DCBABCD"
   ]
  },
  {
   "cell_type": "code",
   "execution_count": 33,
   "metadata": {},
   "outputs": [],
   "source": [
    "def F(n):\n",
    "    letters = 'ABCDEFGHIJKLMNOPQRSTUVWXYZ'\n",
    "    for i in range(1, n+1):\n",
    "        print((n-i)*'-' + letters[i-1::-1] + letters[1:i] + (n-i)*'-')\n",
    "    \n",
    "\n",
    "# Tests\n",
    "F(10)\n",
    "F(6)"
   ]
  },
  {
   "cell_type": "markdown",
   "metadata": {},
   "source": [
    "## 1.b\n",
    "Make a function F that takes only one argument, a dictionary(dict) d.\n",
    "The keys of d are integers and the values of d are a tuple of type (x (int), y (int)).\n",
    "You must print out the dict in the format \"-key-, -x-, -y-\" with each entry in a new line. Print it for each of the three sorted orders, by key values ascending, by x values descending, by y values ascending."
   ]
  },
  {
   "cell_type": "code",
   "execution_count": 34,
   "metadata": {},
   "outputs": [],
   "source": [
    "def F(d : dict):\n",
    "    l = [(k, x, y) for k, (x,y) in d.items()]\n",
    "    # order 1:\n",
    "    l.sort(key=lambda t: t[0])\n",
    "    for t in l:\n",
    "        print(*t, sep=', ')\n",
    "    print('-'*80)\n",
    "    # order 2:\n",
    "    l.sort(key=lambda t: t[1], reverse=True)\n",
    "    for t in l:\n",
    "        print(*t, sep=', ')\n",
    "    print('-'*80)\n",
    "    # order 3:\n",
    "    l.sort(key=lambda t: t[2])\n",
    "    for t in l:\n",
    "        print(*t, sep=', ')\n",
    "    print('-'*80)\n",
    "    print('-'*80)\n",
    "\n",
    "# Tests\n",
    "F({1 : (1, 2), 2 : (-1, 4), 5 : (-4, 3), 4 : (2, 3)})\n",
    "F({-8 : (4, 2), 6 : (-3, 4), 7 : (2, 1), 5 : (9, -10)})"
   ]
  },
  {
   "cell_type": "markdown",
   "metadata": {},
   "source": [
    "## 2 Working with Student Records\n",
    "\n",
    "Use the data in **student_records.csv** to complete the given tasks. Do not include any external libraries. Use a Python dictionary if required.\n",
    "\n",
    "### Reference\n",
    "- [Python Dictionaries](https://www.w3schools.com/python/python_dictionaries.asp)\n"
   ]
  },
  {
   "cell_type": "markdown",
   "metadata": {},
   "source": [
    "#### 2.a: open the student_records.csv file and print out the first 10 rows"
   ]
  },
  {
   "cell_type": "code",
   "execution_count": 35,
   "metadata": {},
   "outputs": [],
   "source": [
    "import csv\n",
    "\n",
    "with open(\"student_records.csv\", newline='') as f:\n",
    "    reader = csv.reader(f)\n",
    "    next(reader) # headings line\n",
    "    for _, row in zip(range(10), reader):\n",
    "        print(*row, sep=', ')"
   ]
  },
  {
   "cell_type": "markdown",
   "metadata": {},
   "source": [
    "#### 2.b: Print out the total credits and calculte CPI of each student. \n",
    "CPI is the weighted average of core courses, and electives (weights being the letter grades converted to number AP,AA=10, AB=9, BB=9, BC=7, CC=6)"
   ]
  },
  {
   "cell_type": "code",
   "execution_count": 36,
   "metadata": {},
   "outputs": [],
   "source": [
    "import csv\n",
    "\n",
    "scores = {\n",
    "    'AP': 10,\n",
    "    'AA': 10,\n",
    "    'AB': 9,\n",
    "    'BB': 8,\n",
    "    'BC': 7,\n",
    "    'CC': 6,\n",
    "}\n",
    "\n",
    "students = {}\n",
    "\n",
    "with open(\"student_records.csv\", newline='') as f:\n",
    "    reader = csv.reader(f)\n",
    "    next(reader) # headings line\n",
    "    for roll_number, _, credit, _, _, grade in reader:\n",
    "        roll_number = int(roll_number)\n",
    "        credit = int(credit)\n",
    "        grade = scores[grade]\n",
    "        students.setdefault(roll_number, [0, 0]) # CPI determined by [0]/[1]; total credits is [1] | obviously there should not be a 0-credit course in this context so there wont be a 0/0 situation incoming later\n",
    "        students[roll_number][0] += credit * grade\n",
    "        students[roll_number][1] += credit\n",
    "\n",
    "for roll_number, (total_cg, total_c) in students.items(): # unspecified order\n",
    "    print(f\"{roll_number}: CPI={total_cg/total_c:.2f}, Total Credits={total_c}\")"
   ]
  },
  {
   "cell_type": "markdown",
   "metadata": {},
   "source": [
    "#### 2.c: Print out the names of all students who meet the graduation requirements \n",
    "Atleast 20 credits of core course, 15 credits of department elective, 10 credits of flexible elective and 5 credits of hasmed electives"
   ]
  },
  {
   "cell_type": "code",
   "execution_count": 37,
   "metadata": {},
   "outputs": [],
   "source": [
    "import csv\n",
    "\n",
    "students = {}\n",
    "indices_of_type = { 'core': 0, 'department_elective': 1, 'flexible_elective': 2, 'hasmed_elective': 3 }\n",
    "minimum_required = (20, 15, 10, 5)\n",
    "\n",
    "with open(\"student_records.csv\", newline='') as f:\n",
    "    reader = csv.reader(f)\n",
    "    next(reader) # headings line\n",
    "    for roll_number, _, credit, _, course_type, _ in reader:\n",
    "        if course_type not in indices_of_type: \n",
    "            continue\n",
    "        roll_number = int(roll_number)\n",
    "        credit = int(credit)\n",
    "        students.setdefault(roll_number, [0] * len(indices_of_type))\n",
    "        students[roll_number][indices_of_type[course_type]] += credit\n",
    "\n",
    "for roll_number, scores in students.items():\n",
    "    if all(x >= m for x, m in zip(scores, minimum_required)):\n",
    "        print(roll_number) # no name given so well..."
   ]
  },
  {
   "cell_type": "markdown",
   "metadata": {},
   "source": [
    "#### 2.d: Print out the names of all students who completed a minor \n",
    "Atleast 10 credits with minor tag in a specific department"
   ]
  },
  {
   "cell_type": "code",
   "execution_count": 38,
   "metadata": {},
   "outputs": [],
   "source": [
    "import csv\n",
    "\n",
    "students = {}\n",
    "\n",
    "with open(\"student_records.csv\", newline='') as f:\n",
    "    reader = csv.reader(f)\n",
    "    next(reader) # headings line\n",
    "    for roll_number, _, credit, course_name, course_type, _ in reader:\n",
    "        if course_type != 'minor':\n",
    "            continue\n",
    "        roll_number = int(roll_number)\n",
    "        credit = int(credit)\n",
    "        course_department = course_name.rstrip('1234567890')\n",
    "        students.setdefault(roll_number, {})\n",
    "        students[roll_number].setdefault(course_department, 0)\n",
    "        students[roll_number][course_department] += credit\n",
    "\n",
    "for roll_number, credits in students.items():\n",
    "    if any(x >= 10 for x in credits.values()):\n",
    "        print(f'{roll_number} got minor in:', ', '.join([dept for dept, x in credits.items() if x >= 10])) # no name given so well... (also printed which depts the student got the minor in, remove second part of print statement if necessary)"
   ]
  },
  {
   "cell_type": "markdown",
   "metadata": {},
   "source": [
    "#### 2.e: Print out the names of all students who completed a honours\n",
    "Atleast 10 credits with honours tag and 20 core credits"
   ]
  },
  {
   "cell_type": "code",
   "execution_count": 39,
   "metadata": {},
   "outputs": [],
   "source": [
    "import csv\n",
    "\n",
    "students = {}\n",
    "indices_of_type = { 'core': 0, 'honours': 1 }\n",
    "minimum_required = (20, 10)\n",
    "\n",
    "with open(\"student_records.csv\", newline='') as f:\n",
    "    reader = csv.reader(f)\n",
    "    next(reader) # headings line\n",
    "    for roll_number, _, credit, _, course_type, _ in reader:\n",
    "        if course_type not in indices_of_type: \n",
    "            continue\n",
    "        roll_number = int(roll_number)\n",
    "        credit = int(credit)\n",
    "        students.setdefault(roll_number, [0] * len(indices_of_type))\n",
    "        students[roll_number][indices_of_type[course_type]] += credit\n",
    "\n",
    "for roll_number, scores in students.items():\n",
    "    if all(x >= m for x, m in zip(scores, minimum_required)):\n",
    "        print(roll_number) # no name given so well..."
   ]
  },
  {
   "cell_type": "markdown",
   "metadata": {},
   "source": [
    "# **SciPy** "
   ]
  },
  {
   "cell_type": "markdown",
   "metadata": {},
   "source": [
    "## Part A\n",
    "Minimize the function $f(x, y) = 2(x - y - 3)^2 + 4(x + 2y + 1)^4$.<br>\n",
    "With the constraints : $ x - y \\ge -3, (x + 2)^2 + (y + 1)^2 \\le 5$ <br>\n",
    "Using scipy.optimize.minimize with constraints. (Hint: Look at the examples in the official documentation)"
   ]
  },
  {
   "cell_type": "code",
   "execution_count": 68,
   "metadata": {},
   "outputs": [],
   "source": [
    "from scipy.optimize import minimize\n",
    "import numpy as np\n",
    "\n",
    "def f(x0):\n",
    "    x, y = x0\n",
    "    return 2 * (x-y-3)**2 + 4 * (x+2*y+1)**4\n",
    "    \n",
    "print(minimize(f, np.array([0, 0]), constraints=[\n",
    "    {'type':'ineq', 'fun': lambda x: x[0]-x[1]+3},    \n",
    "    {'type':'ineq', 'fun': lambda x: 5 - (x[0]+2)**2 - (x[1]+1)**2}\n",
    "]))"
   ]
  },
  {
   "cell_type": "markdown",
   "metadata": {},
   "source": [
    "## Part B\n",
    "Evaluate the line integral of the function $f(x, y) = x^2 + y^4$ along the circle $ x^2 + y^2 = 3 $ anticlockwise (scalar integral, not vector). You must use scipy for integration but you may use parameterization"
   ]
  },
  {
   "cell_type": "code",
   "execution_count": 69,
   "metadata": {},
   "outputs": [],
   "source": [
    "from scipy.integrate import quad\n",
    "from math import sin, cos, pi\n",
    "\n",
    "print(quad(lambda t: (3 * cos(t)**2 + 9 * sin(t)**4), 0, 2*pi))"
   ]
  },
  {
   "cell_type": "markdown",
   "metadata": {},
   "source": [
    "# **Numpy**"
   ]
  },
  {
   "cell_type": "markdown",
   "metadata": {},
   "source": [
    "### Read Lisan_Al_Gaib.pdf for problem description and complete the following functions"
   ]
  },
  {
   "cell_type": "code",
   "execution_count": 42,
   "metadata": {},
   "outputs": [],
   "source": [
    "import time # to time the execution\n",
    "import numpy as np\n",
    "import matplotlib.pyplot as plt"
   ]
  },
  {
   "cell_type": "code",
   "execution_count": 43,
   "metadata": {},
   "outputs": [],
   "source": [
    "### TODO 1\n",
    "### Load data from data_path\n",
    "### Check the input file spice_locations.txt to understand the Data Format\n",
    "### Return : np array of size Nx2\n",
    "import csv\n",
    "def load_data(data_path):\n",
    "    data = []\n",
    "    with open(data_path, newline='') as f:\n",
    "        reader = csv.reader(f)\n",
    "        for x, y in reader:\n",
    "            data.append([float(x), float(y)])\n",
    "    return np.array(data)\n"
   ]
  },
  {
   "cell_type": "code",
   "execution_count": 44,
   "metadata": {},
   "outputs": [],
   "source": [
    "### TODO 2.1\n",
    "### If init_centers is None, initialize the centers by selecting K data points at random without replacement\n",
    "### Else, use the centers provided in init_centers\n",
    "### Return : np array of size Kx2\n",
    "def initialise_centers(data, K, init_centers=None):\n",
    "    return data[np.random.choice(data.shape[0], K, replace=False),:] \\\n",
    "        if init_centers is None else init_centers"
   ]
  },
  {
   "cell_type": "code",
   "execution_count": 45,
   "metadata": {},
   "outputs": [],
   "source": [
    "### TODO 2.2\n",
    "### Initialize the labels to all ones to size (N,) where N is the number of data points\n",
    "### Return : np array of size N\n",
    "def initialise_labels(data: np.ndarray[float]):\n",
    "    return np.ones(data.shape[0])\n"
   ]
  },
  {
   "cell_type": "code",
   "execution_count": 56,
   "metadata": {},
   "outputs": [],
   "source": [
    "### TODO 3.1 : E step\n",
    "### For Each data point, find the distance to each center\n",
    "### Return : np array of size NxK\n",
    "def calculate_distances(data, centers):\n",
    "    answer = np.empty(shape=(data.shape[0], centers.shape[0]))\n",
    "    for i, point in enumerate(data):\n",
    "        for j, center in enumerate(centers):\n",
    "            answer[i][j] = np.linalg.norm(point-center)\n",
    "    return answer\n"
   ]
  },
  {
   "cell_type": "code",
   "execution_count": 47,
   "metadata": {},
   "outputs": [],
   "source": [
    "### TODO 3.2 : E step\n",
    "### For Each data point, assign the label of the nearest center\n",
    "### Return : np array of size N\n",
    "def update_labels(distances):\n",
    "    return np.array([np.argmin(d) for d in distances])"
   ]
  },
  {
   "cell_type": "code",
   "execution_count": 61,
   "metadata": {},
   "outputs": [],
   "source": [
    "### TODO 4 : M step\n",
    "### Update the centers to the mean of the data points assigned to it\n",
    "### Return : np array of size Kx2\n",
    "def update_centers(data, labels, K):\n",
    "    centers = np.zeros([K, 2])\n",
    "    counts = np.zeros(K, dtype=np.uint32) # idts anyone is gonna use more than 2^32-1 values\n",
    "    for point, label in zip(data, labels):\n",
    "        centers[label] += point\n",
    "        counts[label] += 1\n",
    "    return centers/counts # pray to god we dont get a 0/0 situation\n"
   ]
  },
  {
   "cell_type": "code",
   "execution_count": 58,
   "metadata": {},
   "outputs": [],
   "source": [
    "### TODO 6 : Check convergence\n",
    "### Check if the labels have changed from the previous iteration\n",
    "### Return : True / False\n",
    "def check_termination(labels1, labels2):\n",
    "    return (labels1 == labels2).all()"
   ]
  },
  {
   "cell_type": "code",
   "execution_count": 50,
   "metadata": {},
   "outputs": [],
   "source": [
    "### DON'T CHANGE ANYTHING IN THE FOLLOWING FUNCTION\n",
    "def kmeans(data_path:str, K:int, init_centers):\n",
    "    '''\n",
    "    Input :\n",
    "        data (type str): path to the file containing the data\n",
    "        K (type int): number of clusters\n",
    "        init_centers (type numpy.ndarray): initial centers. shape = (K, 2) or None\n",
    "    Output :\n",
    "        centers (type numpy.ndarray): final centers. shape = (K, 2)\n",
    "        labels (type numpy.ndarray): label of each data point. shape = (N,)\n",
    "        time (type float): time taken by the algorithm to converge in seconds\n",
    "    N is the number of data points each of shape (2,)\n",
    "    '''\n",
    "    data = load_data(data_path)    \n",
    "    centers = initialise_centers(data, K, init_centers)\n",
    "    labels = initialise_labels(data)\n",
    "\n",
    "    start_time = time.time() # Time stamp \n",
    "\n",
    "    while True:\n",
    "        distances = calculate_distances(data, centers)\n",
    "        labels_new = update_labels(distances)\n",
    "        centers = update_centers(data, labels_new, K)\n",
    "        if check_termination(labels, labels_new): break\n",
    "        else: labels = labels_new\n",
    " \n",
    "    end_time = time.time() # Time stamp after the algorithm ends\n",
    "    return centers, labels, end_time - start_time "
   ]
  },
  {
   "cell_type": "code",
   "execution_count": 66,
   "metadata": {},
   "outputs": [],
   "source": [
    "### TODO 7\n",
    "def visualise(data_path, labels, centers):\n",
    "    data = load_data(data_path)\n",
    "\n",
    "    # Scatter plot of the data points\n",
    "    plt.scatter(data[:, 0], data[:, 1], c=labels, s=50, cmap='viridis')\n",
    "    plt.scatter(centers[:, 0], centers[:, 1], c='black', s=200, alpha=0.5)\n",
    "\n",
    "    print(labels, centers)\n",
    "\n",
    "    ### Set title as 'K-means clustering'\n",
    "    plt.title(\"K-means clustering\")\n",
    "    ### Set xlabel as 'Longitude'\n",
    "    plt.xlabel('Longitude')\n",
    "    ### Set ylabel as 'Latitude'\n",
    "    plt.xlabel('Latitude')\n",
    "    ### Save the plot as 'kmeans.png'\n",
    "    plt.savefig('kmeans.png')\n",
    "\n",
    "    ## DO NOT CHANGE THE FOLLOWING LINE\n",
    "    return plt"
   ]
  },
  {
   "cell_type": "code",
   "execution_count": 67,
   "metadata": {},
   "outputs": [],
   "source": [
    "### After you have completed the above functions, run the following code to generate the plot\n",
    "data_path = 'spice_locations.txt'\n",
    "K, init_centers = 2, None\n",
    "centers, labels, time_taken = kmeans(data_path, K, init_centers)\n",
    "print('Time taken for the algorithm to converge:', time_taken)\n",
    "visualise(data_path, labels, centers)"
   ]
  }
 ],
 "metadata": {
  "kernelspec": {
   "display_name": "Python 3",
   "language": "python",
   "name": "python3"
  },
  "language_info": {
   "codemirror_mode": {
    "name": "ipython",
    "version": 3
   },
   "file_extension": ".py",
   "mimetype": "text/x-python",
   "name": "python",
   "nbconvert_exporter": "python",
   "pygments_lexer": "ipython3",
   "version": "3.12.0"
  }
 },
 "nbformat": 4,
 "nbformat_minor": 2
}
